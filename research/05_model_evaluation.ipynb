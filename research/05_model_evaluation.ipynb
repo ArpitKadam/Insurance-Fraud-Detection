{
 "cells": [
  {
   "cell_type": "code",
   "execution_count": 5,
   "metadata": {},
   "outputs": [
    {
     "data": {
      "text/plain": [
       "'c:\\\\Users\\\\Arpit Kadam\\\\Desktop\\\\Insurance-Fraud-Detection\\\\research'"
      ]
     },
     "execution_count": 5,
     "metadata": {},
     "output_type": "execute_result"
    }
   ],
   "source": [
    "pwd"
   ]
  },
  {
   "cell_type": "code",
   "execution_count": 6,
   "metadata": {},
   "outputs": [],
   "source": [
    "os.chdir('c:/Users/Arpit Kadam/Desktop/Insurance-Fraud-Detection')"
   ]
  },
  {
   "cell_type": "code",
   "execution_count": 15,
   "metadata": {},
   "outputs": [
    {
     "data": {
      "text/plain": [
       "'c:\\\\Users\\\\Arpit Kadam\\\\Desktop\\\\Insurance-Fraud-Detection'"
      ]
     },
     "execution_count": 15,
     "metadata": {},
     "output_type": "execute_result"
    }
   ],
   "source": [
    "pwd"
   ]
  },
  {
   "cell_type": "code",
   "execution_count": 1,
   "metadata": {},
   "outputs": [],
   "source": [
    "import os"
   ]
  },
  {
   "cell_type": "code",
   "execution_count": 2,
   "metadata": {},
   "outputs": [],
   "source": [
    "os.environ['MLFLOW_TRACKING_URI'] = 'https://dagshub.com/ArpitKadam/Insurance-Fraud-Detection.mlflow'\n",
    "os.environ['MLFLOW_TRACKING_TOKEN'] = '5989d6b56c4eec6ea090d927851d1fb5297a42a8'\n",
    "os.environ['MLFLOW_TRACKING_USERNAME'] = 'ArpitKadam'"
   ]
  },
  {
   "cell_type": "code",
   "execution_count": 3,
   "metadata": {},
   "outputs": [],
   "source": [
    "from dataclasses import dataclass\n",
    "from pathlib import Path\n",
    "\n",
    "@dataclass(frozen=True)\n",
    "class ModelEvaluationConfig:\n",
    "    root_dir: Path\n",
    "    test_data_path: Path\n",
    "    model_path: Path\n",
    "    all_params: dict\n",
    "    metric_file_name: Path\n",
    "    target_column: str\n",
    "    mlflow_uri: str"
   ]
  },
  {
   "cell_type": "code",
   "execution_count": 4,
   "metadata": {},
   "outputs": [],
   "source": [
    "from src.Insurance_Fraud.constants import *\n",
    "from src.Insurance_Fraud.utils.common import read_yaml, create_directories"
   ]
  },
  {
   "cell_type": "code",
   "execution_count": 22,
   "metadata": {},
   "outputs": [],
   "source": [
    "class ConfigurationManager:\n",
    "    def __init__(\n",
    "            self, \n",
    "            config_filepath=CONFIG_FILE_PATH,\n",
    "            params_filepath=PARAMS_FILE_PATH,\n",
    "            schema_filepath=SCHEMA_FILE_PATH\n",
    "        ):\n",
    "        self.config = read_yaml(config_filepath)\n",
    "        self.params = read_yaml(params_filepath)\n",
    "        self.schema = read_yaml(schema_filepath)\n",
    "\n",
    "        artifacts_root = self.config[\"artifacts_root\"]  # Adjust to dictionary-style access\n",
    "        create_directories([artifacts_root])\n",
    "\n",
    "    def get_model_evaluation_config(self) -> ModelEvaluationConfig:\n",
    "        config = self.config[\"model_evaluation\"]\n",
    "        params = self.params[\"GradientBoostingClassifier\"]\n",
    "        schema = self.schema[\"TARGET_COLUMN\"]\n",
    "\n",
    "        create_directories([config[\"root_dir\"]])\n",
    "\n",
    "        model_evaluation_config = ModelEvaluationConfig(\n",
    "            root_dir=config[\"root_dir\"],\n",
    "            test_data_path=config[\"test_data_path\"],\n",
    "            model_path=config[\"model_path\"],\n",
    "            all_params=params,\n",
    "            metric_file_name=config[\"metric_file_name\"],\n",
    "            target_column=schema[\"name\"],\n",
    "            mlflow_uri=\"https://dagshub.com/ArpitKadam/Insurance-Fraud-Detection.mlflow\"\n",
    "        )\n",
    "        return model_evaluation_config  \n"
   ]
  },
  {
   "cell_type": "code",
   "execution_count": 24,
   "metadata": {},
   "outputs": [],
   "source": [
    "import pandas as pd\n",
    "import joblib\n",
    "import mlflow\n",
    "from mlflow.models.signature import infer_signature\n",
    "from sklearn.metrics import (\n",
    "    f1_score,\n",
    "    roc_auc_score,\n",
    "    accuracy_score,\n",
    "    precision_score,\n",
    "    recall_score,\n",
    "    confusion_matrix,\n",
    "    classification_report,\n",
    ")\n",
    "from sklearn.preprocessing import StandardScaler\n",
    "from src.Insurance_Fraud.logger.logger import logger\n",
    "\n",
    "\n",
    "class ModelEvaluation:\n",
    "    def __init__(self, config: ModelEvaluationConfig):\n",
    "        self.config = config\n",
    "\n",
    "    @staticmethod\n",
    "    def eval_metrics(actual, pred):\n",
    "        \"\"\"\n",
    "        Evaluate key metrics for model evaluation.\n",
    "        Returns a dictionary with all metrics and reports.\n",
    "        \"\"\"\n",
    "        metrics = {\n",
    "            \"f1_score\": f1_score(actual, pred),\n",
    "            \"roc_auc_score\": roc_auc_score(actual, pred),\n",
    "            \"accuracy_score\": accuracy_score(actual, pred),\n",
    "            \"precision_score\": precision_score(actual, pred),\n",
    "            \"recall_score\": recall_score(actual, pred),\n",
    "            \"confusion_matrix\": confusion_matrix(actual, pred).tolist(),  # Convert to list for JSON serialization\n",
    "            \"classification_report\": classification_report(actual, pred, output_dict=True),  # Dict for better logging\n",
    "        }\n",
    "        return metrics\n",
    "\n",
    "    def log_into_mlflow(self):\n",
    "        \"\"\"\n",
    "        Log metrics and the trained model into MLflow.\n",
    "        \"\"\"\n",
    "        try:\n",
    "            # Load the test data and trained model\n",
    "            logger.info(\"Loading test data and trained model.\")\n",
    "            test_data = pd.read_csv(self.config.test_data_path)\n",
    "            model = joblib.load(self.config.model_path)\n",
    "\n",
    "            # Preprocess test data\n",
    "            logger.info(\"Preparing test data for evaluation.\")\n",
    "            test_x = test_data.drop([self.config.target_column], axis=1)\n",
    "            test_y = test_data[self.config.target_column]\n",
    "            scaler = StandardScaler()\n",
    "            test_x_scaled = scaler.fit_transform(test_x)  # Use fit_transform to ensure compatibility\n",
    "\n",
    "            # Set up MLflow tracking\n",
    "            mlflow.set_tracking_uri(self.config.mlflow_uri)\n",
    "            mlflow.set_experiment(self.config.root_dir)\n",
    "\n",
    "            logger.info(\"Starting MLflow run.\")\n",
    "            with mlflow.start_run():\n",
    "                # Predict and evaluate metrics\n",
    "                logger.info(\"Making predictions and evaluating metrics.\")\n",
    "                predicted_qualities = model.predict(test_x_scaled)\n",
    "                metrics = self.eval_metrics(test_y, predicted_qualities)\n",
    "\n",
    "                # Log metrics to MLflow\n",
    "                logger.info(\"Logging metrics to MLflow.\")\n",
    "                for metric_name, metric_value in metrics.items():\n",
    "                    if isinstance(metric_value, list) or isinstance(metric_value, dict):\n",
    "                        # Skip complex objects for metrics\n",
    "                        continue\n",
    "                    mlflow.log_metric(metric_name, metric_value)\n",
    "\n",
    "                # Log all model parameters\n",
    "                logger.info(\"Logging parameters to MLflow.\")\n",
    "                mlflow.log_params(self.config.all_params)\n",
    "\n",
    "                # Log model with signature\n",
    "                signature = infer_signature(test_x_scaled, predicted_qualities)\n",
    "                mlflow.sklearn.log_model(\n",
    "                    sk_model=model,\n",
    "                    artifact_path=\"model\",\n",
    "                    registered_model_name=\"GradientBoostingClassifier\",\n",
    "                    signature=signature,\n",
    "                )\n",
    "                logger.info(\"Model and metrics logged successfully.\")\n",
    "\n",
    "        except Exception as e:\n",
    "            logger.info(f\"Error during model evaluation: {e}\")\n",
    "            raise e\n"
   ]
  },
  {
   "cell_type": "code",
   "execution_count": null,
   "metadata": {},
   "outputs": [],
   "source": [
    "import traceback\n",
    "try:\n",
    "    config = ConfigurationManager()\n",
    "    print(\"Configuration loaded successfully.\")\n",
    "    model_evaluation_config = config.get_model_evaluation_config()\n",
    "    model_evaluation = ModelEvaluation(config=model_evaluation_config)\n",
    "    model_evaluation.log_into_mlflow()\n",
    "except Exception as e:\n",
    "    logger.info(f\"Error during model evaluation: {e}\")\n",
    "    traceback.print_exc()  # Add this line to print the full stack trace\n",
    "    raise e"
   ]
  },
  {
   "cell_type": "code",
   "execution_count": 20,
   "metadata": {},
   "outputs": [
    {
     "name": "stdout",
     "output_type": "stream",
     "text": [
      "MLflow tracking URI set successfully.\n"
     ]
    }
   ],
   "source": [
    "import mlflow\n",
    "\n",
    "mlflow.set_tracking_uri('https://dagshub.com/ArpitKadam/Insurance-Fraud-Detection.mlflow')\n",
    "print(\"MLflow tracking URI set successfully.\")\n"
   ]
  },
  {
   "cell_type": "code",
   "execution_count": null,
   "metadata": {},
   "outputs": [],
   "source": []
  }
 ],
 "metadata": {
  "kernelspec": {
   "display_name": "venv",
   "language": "python",
   "name": "python3"
  },
  "language_info": {
   "codemirror_mode": {
    "name": "ipython",
    "version": 3
   },
   "file_extension": ".py",
   "mimetype": "text/x-python",
   "name": "python",
   "nbconvert_exporter": "python",
   "pygments_lexer": "ipython3",
   "version": "3.10.11"
  }
 },
 "nbformat": 4,
 "nbformat_minor": 2
}
