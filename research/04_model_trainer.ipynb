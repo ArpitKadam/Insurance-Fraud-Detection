{
 "cells": [
  {
   "cell_type": "code",
   "execution_count": 1,
   "metadata": {},
   "outputs": [],
   "source": [
    "import os\n",
    "import zipfile\n",
    "import numpy as np\n",
    "import pandas as pd\n",
    "import sys\n",
    "\n",
    "from pathlib import Path\n",
    "\n",
    "project_root = Path.cwd().parent\n",
    "sys.path.append(str(project_root))\n",
    "\n",
    "from src.Insurance_Fraud.logger.logger import logger\n",
    "from src.Insurance_Fraud.constants import *\n",
    "from src.Insurance_Fraud.utils.common import read_yaml, create_directories"
   ]
  },
  {
   "cell_type": "code",
   "execution_count": 15,
   "metadata": {},
   "outputs": [],
   "source": [
    "from dataclasses import dataclass\n",
    "from pathlib import Path\n",
    "\n",
    "@dataclass\n",
    "class ModelTrainerConfig:\n",
    "    root_dir: Path\n",
    "    train_data_path: Path\n",
    "    test_data_path: Path\n",
    "    model_name: str\n",
    "    learning_rate: float\n",
    "    max_depth: int\n",
    "    n_estimators: int\n",
    "    subsample: float\n",
    "    target_column: str"
   ]
  },
  {
   "cell_type": "code",
   "execution_count": 12,
   "metadata": {},
   "outputs": [],
   "source": [
    "\n",
    "class ConfigurationManager:\n",
    "    def __init__(\n",
    "        self,\n",
    "        config_file_path = Path(CONFIG_FILE_PATH),\n",
    "        params_file_path = Path(PARAMS_FILE_PATH),\n",
    "        schema_file_path = Path(SCHEMA_FILE_PATH)\n",
    "    ):\n",
    "        self.config = read_yaml(Path(config_file_path))\n",
    "        self.params = read_yaml(Path(params_file_path))\n",
    "        self.schema = read_yaml(Path(schema_file_path))\n",
    "\n",
    "        logger.info(f\"Schema loaded: {self.schema}\")  # Log the schema for debugging\n",
    "\n",
    "        self.config['data_validation']['unzip_data_dir'] = Path(\"C:/Users/Arpit Kadam/Desktop/Insurance-Fraud-Detection/artifacts/data_ingestion/Insurance_Claims.csv\")\n",
    "\n",
    "        create_directories([self.config['artifacts_root']])\n",
    "\n",
    "    def get_model_trainer_config(self) -> ModelTrainerConfig:\n",
    "        config = self.config['model_trainer']\n",
    "        params = self.params['GradientBoostingClassifier']\n",
    "        \n",
    "        # Check if 'TARGET_COLUMN' exists in schema\n",
    "        if 'TARGET_COLUMN' not in self.schema:\n",
    "            logger.error(\"TARGET_COLUMN not found in schema\")\n",
    "            raise KeyError(\"TARGET_COLUMN not found in schema\")\n",
    "\n",
    "        schema = self.schema['TARGET_COLUMN']\n",
    "\n",
    "        create_directories([config['root_dir']])\n",
    "\n",
    "        model_trainer_config = ModelTrainerConfig(\n",
    "            root_dir = config['root_dir'],\n",
    "            train_data_path = config['train_data_path'],\n",
    "            test_data_path = config['test_data_path'],\n",
    "            model_name = config['model_name'],\n",
    "            learning_rate = params['learning_rate'],\n",
    "            max_depth = params['max_depth'],\n",
    "            n_estimators = params['n_estimators'],\n",
    "            subsample = params['subsample'],\n",
    "            target_column = schema['TARGET_COLUMN']\n",
    "        )\n",
    "\n",
    "        logger.info(f\"Model Trainer Config: {model_trainer_config}\")\n",
    "        return model_trainer_config\n"
   ]
  },
  {
   "cell_type": "code",
   "execution_count": 6,
   "metadata": {},
   "outputs": [],
   "source": [
    "import joblib\n",
    "import pandas as pd\n",
    "from sklearn.ensemble import GradientBoostingClassifier\n"
   ]
  },
  {
   "cell_type": "code",
   "execution_count": 13,
   "metadata": {},
   "outputs": [],
   "source": [
    "class ModelTrainer:\n",
    "    def __init__(self, config: ModelTrainerConfig):\n",
    "        self.config = config\n",
    "\n",
    "    def train(self):\n",
    "        train_data = pd.read_csv(self.config.train_data_path)\n",
    "        test_data = pd.read_csv(self.config.test_data_path)\n",
    "\n",
    "        train_x = train_data.drop([self.config.target_column], axis=1)\n",
    "        train_y = train_data[self.config.target_column]\n",
    "\n",
    "        test_x = test_data.drop([self.config.target_column], axis=1)\n",
    "        test_y = test_data[self.config.target_column]\n",
    "\n",
    "        model = GradientBoostingClassifier(\n",
    "            learning_rate=self.config.learning_rate,\n",
    "            max_depth=self.config.max_depth,\n",
    "            n_estimators=self.config.n_estimators,\n",
    "            subsample=self.config.subsample\n",
    "        )\n",
    "\n",
    "        model.fit(train_x, train_y)\n",
    "\n",
    "        joblib.dump(model, os.path.join(self.config.root_dir, self.config.model_name))\n",
    "\n",
    "        logger.info(f\"Model trained and saved to {self.config.root_dir}/{self.config.model_name}\")\n",
    "\n",
    "        return model"
   ]
  },
  {
   "cell_type": "code",
   "execution_count": 14,
   "metadata": {},
   "outputs": [
    {
     "name": "stdout",
     "output_type": "stream",
     "text": [
      "[2025-01-22 01:39:56,364: INFO: common: Attempting to read YAML file from: C:\\Users\\Arpit Kadam\\Desktop\\Insurance-Fraud-Detection\\config\\config.yaml]\n",
      "[2025-01-22 01:39:56,375: INFO: common: Attempting to read YAML file from: C:\\Users\\Arpit Kadam\\Desktop\\Insurance-Fraud-Detection\\params.yaml]\n",
      "[2025-01-22 01:39:56,378: INFO: common: Attempting to read YAML file from: C:\\Users\\Arpit Kadam\\Desktop\\Insurance-Fraud-Detection\\schema.yaml]\n",
      "[2025-01-22 01:39:56,388: INFO: 74876685: Schema loaded: {'COLUMNS': {'months_as_customer': 'int64', 'age': 'int64', 'policy_number': 'int64', 'policy_bind_date': 'object', 'policy_state': 'object', 'policy_csl': 'object', 'policy_deductable': 'int64', 'policy_annual_premium': 'float64', 'umbrella_limit': 'int64', 'insured_zip': 'int64', 'insured_sex': 'object', 'insured_education_level': 'object', 'insured_occupation': 'object', 'insured_hobbies': 'object', 'insured_relationship': 'object', 'capital-gains': 'int64', 'capital-loss': 'int64', 'incident_date': 'object', 'incident_type': 'object', 'collision_type': 'object', 'incident_severity': 'object', 'authorities_contacted': 'object', 'incident_state': 'object', 'incident_city': 'object', 'incident_location': 'object', 'incident_hour_of_the_day': 'int64', 'number_of_vehicles_involved': 'int64', 'property_damage': 'object', 'bodily_injuries': 'int64', 'witnesses': 'int64', 'police_report_available': 'object', 'total_claim_amount': 'int64', 'injury_claim': 'int64', 'property_claim': 'int64', 'vehicle_claim': 'int64', 'auto_make': 'object', 'auto_model': 'object', 'auto_year': 'int64', 'fraud_reported': 'object'}, 'TARGET_COLUMN': {'fraud_reported': 'object'}}]\n",
      "[2025-01-22 01:39:56,390: INFO: common: Directory created: artifacts]\n",
      "[2025-01-22 01:39:56,391: INFO: common: Directory created: artifacts/model_trainer]\n",
      "[2025-01-22 01:39:56,393: ERROR: 3405084363: Error in model training: 'TARGET_COLUMN']\n"
     ]
    },
    {
     "ename": "KeyError",
     "evalue": "'TARGET_COLUMN'",
     "output_type": "error",
     "traceback": [
      "\u001b[1;31m---------------------------------------------------------------------------\u001b[0m",
      "\u001b[1;31mKeyError\u001b[0m                                  Traceback (most recent call last)",
      "Cell \u001b[1;32mIn[14], line 11\u001b[0m\n\u001b[0;32m      9\u001b[0m \u001b[38;5;28;01mexcept\u001b[39;00m \u001b[38;5;167;01mException\u001b[39;00m \u001b[38;5;28;01mas\u001b[39;00m e:\n\u001b[0;32m     10\u001b[0m     logger\u001b[38;5;241m.\u001b[39merror(\u001b[38;5;124mf\u001b[39m\u001b[38;5;124m\"\u001b[39m\u001b[38;5;124mError in model training: \u001b[39m\u001b[38;5;132;01m{\u001b[39;00me\u001b[38;5;132;01m}\u001b[39;00m\u001b[38;5;124m\"\u001b[39m)\n\u001b[1;32m---> 11\u001b[0m     \u001b[38;5;28;01mraise\u001b[39;00m e\n",
      "Cell \u001b[1;32mIn[14], line 5\u001b[0m\n\u001b[0;32m      1\u001b[0m \u001b[38;5;28;01mtry\u001b[39;00m:\n\u001b[0;32m      2\u001b[0m     config \u001b[38;5;241m=\u001b[39m ConfigurationManager(config_file_path\u001b[38;5;241m=\u001b[39mPath(\u001b[38;5;124m\"\u001b[39m\u001b[38;5;124mC:/Users/Arpit Kadam/Desktop/Insurance-Fraud-Detection/config/config.yaml\u001b[39m\u001b[38;5;124m\"\u001b[39m),\n\u001b[0;32m      3\u001b[0m                                     params_file_path\u001b[38;5;241m=\u001b[39mPath(\u001b[38;5;124m\"\u001b[39m\u001b[38;5;124mC:/Users/Arpit Kadam/Desktop/Insurance-Fraud-Detection/params.yaml\u001b[39m\u001b[38;5;124m\"\u001b[39m),\n\u001b[0;32m      4\u001b[0m                                     schema_file_path\u001b[38;5;241m=\u001b[39mPath(\u001b[38;5;124m\"\u001b[39m\u001b[38;5;124mC:/Users/Arpit Kadam/Desktop/Insurance-Fraud-Detection/schema.yaml\u001b[39m\u001b[38;5;124m\"\u001b[39m))\n\u001b[1;32m----> 5\u001b[0m     model_trainer_config \u001b[38;5;241m=\u001b[39m \u001b[43mconfig\u001b[49m\u001b[38;5;241;43m.\u001b[39;49m\u001b[43mget_model_trainer_config\u001b[49m\u001b[43m(\u001b[49m\u001b[43m)\u001b[49m\n\u001b[0;32m      6\u001b[0m     model_trainer \u001b[38;5;241m=\u001b[39m ModelTrainer(config\u001b[38;5;241m=\u001b[39mmodel_trainer_config)\n\u001b[0;32m      7\u001b[0m     model \u001b[38;5;241m=\u001b[39m model_trainer\u001b[38;5;241m.\u001b[39mtrain()\n",
      "Cell \u001b[1;32mIn[12], line 40\u001b[0m, in \u001b[0;36mConfigurationManager.get_model_trainer_config\u001b[1;34m(self)\u001b[0m\n\u001b[0;32m     27\u001b[0m schema \u001b[38;5;241m=\u001b[39m \u001b[38;5;28mself\u001b[39m\u001b[38;5;241m.\u001b[39mschema[\u001b[38;5;124m'\u001b[39m\u001b[38;5;124mTARGET_COLUMN\u001b[39m\u001b[38;5;124m'\u001b[39m]\n\u001b[0;32m     29\u001b[0m create_directories([config[\u001b[38;5;124m'\u001b[39m\u001b[38;5;124mroot_dir\u001b[39m\u001b[38;5;124m'\u001b[39m]])\n\u001b[0;32m     31\u001b[0m model_trainer_config \u001b[38;5;241m=\u001b[39m ModelTrainerConfig(\n\u001b[0;32m     32\u001b[0m     root_dir \u001b[38;5;241m=\u001b[39m config[\u001b[38;5;124m'\u001b[39m\u001b[38;5;124mroot_dir\u001b[39m\u001b[38;5;124m'\u001b[39m],\n\u001b[0;32m     33\u001b[0m     train_data_path \u001b[38;5;241m=\u001b[39m config[\u001b[38;5;124m'\u001b[39m\u001b[38;5;124mtrain_data_path\u001b[39m\u001b[38;5;124m'\u001b[39m],\n\u001b[0;32m     34\u001b[0m     test_data_path \u001b[38;5;241m=\u001b[39m config[\u001b[38;5;124m'\u001b[39m\u001b[38;5;124mtest_data_path\u001b[39m\u001b[38;5;124m'\u001b[39m],\n\u001b[0;32m     35\u001b[0m     model_name \u001b[38;5;241m=\u001b[39m config[\u001b[38;5;124m'\u001b[39m\u001b[38;5;124mmodel_name\u001b[39m\u001b[38;5;124m'\u001b[39m],\n\u001b[0;32m     36\u001b[0m     learning_rate \u001b[38;5;241m=\u001b[39m params[\u001b[38;5;124m'\u001b[39m\u001b[38;5;124mlearning_rate\u001b[39m\u001b[38;5;124m'\u001b[39m],\n\u001b[0;32m     37\u001b[0m     max_depth \u001b[38;5;241m=\u001b[39m params[\u001b[38;5;124m'\u001b[39m\u001b[38;5;124mmax_depth\u001b[39m\u001b[38;5;124m'\u001b[39m],\n\u001b[0;32m     38\u001b[0m     n_estimators \u001b[38;5;241m=\u001b[39m params[\u001b[38;5;124m'\u001b[39m\u001b[38;5;124mn_estimators\u001b[39m\u001b[38;5;124m'\u001b[39m],\n\u001b[0;32m     39\u001b[0m     subsample \u001b[38;5;241m=\u001b[39m params[\u001b[38;5;124m'\u001b[39m\u001b[38;5;124msubsample\u001b[39m\u001b[38;5;124m'\u001b[39m],\n\u001b[1;32m---> 40\u001b[0m     target_column \u001b[38;5;241m=\u001b[39m \u001b[43mschema\u001b[49m\u001b[43m[\u001b[49m\u001b[38;5;124;43m'\u001b[39;49m\u001b[38;5;124;43mTARGET_COLUMN\u001b[39;49m\u001b[38;5;124;43m'\u001b[39;49m\u001b[43m]\u001b[49m\n\u001b[0;32m     41\u001b[0m )\n\u001b[0;32m     43\u001b[0m logger\u001b[38;5;241m.\u001b[39minfo(\u001b[38;5;124mf\u001b[39m\u001b[38;5;124m\"\u001b[39m\u001b[38;5;124mModel Trainer Config: \u001b[39m\u001b[38;5;132;01m{\u001b[39;00mmodel_trainer_config\u001b[38;5;132;01m}\u001b[39;00m\u001b[38;5;124m\"\u001b[39m)\n\u001b[0;32m     44\u001b[0m \u001b[38;5;28;01mreturn\u001b[39;00m model_trainer_config\n",
      "\u001b[1;31mKeyError\u001b[0m: 'TARGET_COLUMN'"
     ]
    }
   ],
   "source": [
    "try:\n",
    "    config = ConfigurationManager(config_file_path=Path(\"C:/Users/Arpit Kadam/Desktop/Insurance-Fraud-Detection/config/config.yaml\"),\n",
    "                                    params_file_path=Path(\"C:/Users/Arpit Kadam/Desktop/Insurance-Fraud-Detection/params.yaml\"),\n",
    "                                    schema_file_path=Path(\"C:/Users/Arpit Kadam/Desktop/Insurance-Fraud-Detection/schema.yaml\"))\n",
    "    model_trainer_config = config.get_model_trainer_config()\n",
    "    model_trainer = ModelTrainer(config=model_trainer_config)\n",
    "    model = model_trainer.train()\n",
    "    logger.info(f\"Model training completed successfully\")\n",
    "except Exception as e:\n",
    "    logger.error(f\"Error in model training: {e}\")\n",
    "    raise e\n"
   ]
  },
  {
   "cell_type": "code",
   "execution_count": null,
   "metadata": {},
   "outputs": [],
   "source": []
  },
  {
   "cell_type": "code",
   "execution_count": null,
   "metadata": {},
   "outputs": [],
   "source": []
  },
  {
   "cell_type": "code",
   "execution_count": null,
   "metadata": {},
   "outputs": [],
   "source": []
  },
  {
   "cell_type": "code",
   "execution_count": null,
   "metadata": {},
   "outputs": [],
   "source": []
  },
  {
   "cell_type": "code",
   "execution_count": null,
   "metadata": {},
   "outputs": [],
   "source": []
  }
 ],
 "metadata": {
  "kernelspec": {
   "display_name": "venv",
   "language": "python",
   "name": "python3"
  },
  "language_info": {
   "codemirror_mode": {
    "name": "ipython",
    "version": 3
   },
   "file_extension": ".py",
   "mimetype": "text/x-python",
   "name": "python",
   "nbconvert_exporter": "python",
   "pygments_lexer": "ipython3",
   "version": "3.10.11"
  }
 },
 "nbformat": 4,
 "nbformat_minor": 2
}
